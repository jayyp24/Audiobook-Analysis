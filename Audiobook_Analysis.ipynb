{
 "cells": [
  {
   "cell_type": "markdown",
   "metadata": {},
   "source": [
    "# Practical example. Audiobooks"
   ]
  },
  {
   "cell_type": "markdown",
   "metadata": {},
   "source": [
    "### Import the relevant libraries"
   ]
  },
  {
   "cell_type": "code",
   "execution_count": 1,
   "metadata": {},
   "outputs": [],
   "source": [
    "\n",
    "import numpy as np\n",
    "import tensorflow as tf"
   ]
  },
  {
   "cell_type": "markdown",
   "metadata": {},
   "source": [
    "### Data"
   ]
  },
  {
   "cell_type": "code",
   "execution_count": 5,
   "metadata": {},
   "outputs": [],
   "source": [
    "\n",
    "npz = np.load('Audiobooks_data_train.npz')\n",
    "\n",
    "\n",
    "train_inputs = npz['inputs'].astype(float)\n",
    "\n",
    "train_targets = npz['targets'].astype(int)\n",
    "\n",
    "\n",
    "npz = np.load('Audiobooks_data_validation.npz')\n",
    "\n",
    "validation_inputs, validation_targets = npz['inputs'].astype(float), npz['targets'].astype(int)\n",
    "\n",
    "\n",
    "npz = np.load('Audiobooks_data_test.npz')\n",
    "\n",
    "test_inputs, test_targets = npz['inputs'].astype(float), npz['targets'].astype(int)"
   ]
  },
  {
   "cell_type": "markdown",
   "metadata": {},
   "source": [
    "### Model\n",
    "Outline, optimizers, loss, early stopping and training"
   ]
  },
  {
   "cell_type": "code",
   "execution_count": 29,
   "metadata": {},
   "outputs": [
    {
     "name": "stdout",
     "output_type": "stream",
     "text": [
      "Epoch 1/100\n",
      "4/4 - 2s - loss: 0.7063 - accuracy: 0.5384 - val_loss: 0.6853 - val_accuracy: 0.5839 - 2s/epoch - 548ms/step\n",
      "Epoch 2/100\n",
      "4/4 - 0s - loss: 0.6704 - accuracy: 0.6060 - val_loss: 0.6544 - val_accuracy: 0.6465 - 95ms/epoch - 24ms/step\n",
      "Epoch 3/100\n",
      "4/4 - 0s - loss: 0.6410 - accuracy: 0.6616 - val_loss: 0.6292 - val_accuracy: 0.6622 - 110ms/epoch - 27ms/step\n",
      "Epoch 4/100\n",
      "4/4 - 0s - loss: 0.6158 - accuracy: 0.6890 - val_loss: 0.6079 - val_accuracy: 0.6846 - 96ms/epoch - 24ms/step\n",
      "Epoch 5/100\n",
      "4/4 - 0s - loss: 0.5938 - accuracy: 0.7069 - val_loss: 0.5891 - val_accuracy: 0.7226 - 88ms/epoch - 22ms/step\n",
      "Epoch 6/100\n",
      "4/4 - 0s - loss: 0.5741 - accuracy: 0.7195 - val_loss: 0.5717 - val_accuracy: 0.7226 - 77ms/epoch - 19ms/step\n",
      "Epoch 7/100\n",
      "4/4 - 0s - loss: 0.5559 - accuracy: 0.7315 - val_loss: 0.5552 - val_accuracy: 0.7271 - 79ms/epoch - 20ms/step\n",
      "Epoch 8/100\n",
      "4/4 - 0s - loss: 0.5395 - accuracy: 0.7368 - val_loss: 0.5397 - val_accuracy: 0.7315 - 79ms/epoch - 20ms/step\n",
      "Epoch 9/100\n",
      "4/4 - 0s - loss: 0.5241 - accuracy: 0.7429 - val_loss: 0.5250 - val_accuracy: 0.7383 - 81ms/epoch - 20ms/step\n",
      "Epoch 10/100\n",
      "4/4 - 0s - loss: 0.5099 - accuracy: 0.7463 - val_loss: 0.5114 - val_accuracy: 0.7472 - 86ms/epoch - 22ms/step\n",
      "Epoch 11/100\n",
      "4/4 - 0s - loss: 0.4967 - accuracy: 0.7488 - val_loss: 0.4986 - val_accuracy: 0.7472 - 79ms/epoch - 20ms/step\n",
      "Epoch 12/100\n",
      "4/4 - 0s - loss: 0.4847 - accuracy: 0.7550 - val_loss: 0.4867 - val_accuracy: 0.7494 - 82ms/epoch - 21ms/step\n",
      "Epoch 13/100\n",
      "4/4 - 0s - loss: 0.4733 - accuracy: 0.7575 - val_loss: 0.4755 - val_accuracy: 0.7539 - 86ms/epoch - 21ms/step\n",
      "Epoch 14/100\n",
      "4/4 - 0s - loss: 0.4629 - accuracy: 0.7631 - val_loss: 0.4653 - val_accuracy: 0.7606 - 84ms/epoch - 21ms/step\n",
      "Epoch 15/100\n",
      "4/4 - 0s - loss: 0.4532 - accuracy: 0.7698 - val_loss: 0.4555 - val_accuracy: 0.7673 - 87ms/epoch - 22ms/step\n",
      "Epoch 16/100\n",
      "4/4 - 0s - loss: 0.4447 - accuracy: 0.7742 - val_loss: 0.4468 - val_accuracy: 0.7852 - 98ms/epoch - 25ms/step\n",
      "Epoch 17/100\n",
      "4/4 - 0s - loss: 0.4364 - accuracy: 0.7787 - val_loss: 0.4388 - val_accuracy: 0.7919 - 83ms/epoch - 21ms/step\n",
      "Epoch 18/100\n",
      "4/4 - 0s - loss: 0.4288 - accuracy: 0.7812 - val_loss: 0.4310 - val_accuracy: 0.7987 - 76ms/epoch - 19ms/step\n",
      "Epoch 19/100\n",
      "4/4 - 0s - loss: 0.4219 - accuracy: 0.7846 - val_loss: 0.4239 - val_accuracy: 0.7897 - 81ms/epoch - 20ms/step\n",
      "Epoch 20/100\n",
      "4/4 - 0s - loss: 0.4155 - accuracy: 0.7837 - val_loss: 0.4171 - val_accuracy: 0.7919 - 75ms/epoch - 19ms/step\n",
      "Epoch 21/100\n",
      "4/4 - 0s - loss: 0.4095 - accuracy: 0.7863 - val_loss: 0.4109 - val_accuracy: 0.7942 - 83ms/epoch - 21ms/step\n",
      "Epoch 22/100\n",
      "4/4 - 0s - loss: 0.4038 - accuracy: 0.7918 - val_loss: 0.4054 - val_accuracy: 0.7987 - 88ms/epoch - 22ms/step\n",
      "Epoch 23/100\n",
      "4/4 - 0s - loss: 0.3990 - accuracy: 0.7921 - val_loss: 0.4003 - val_accuracy: 0.8031 - 87ms/epoch - 22ms/step\n",
      "Epoch 24/100\n",
      "4/4 - 0s - loss: 0.3941 - accuracy: 0.7966 - val_loss: 0.3956 - val_accuracy: 0.8031 - 78ms/epoch - 20ms/step\n",
      "Epoch 25/100\n",
      "4/4 - 0s - loss: 0.3898 - accuracy: 0.7974 - val_loss: 0.3908 - val_accuracy: 0.8054 - 75ms/epoch - 19ms/step\n",
      "Epoch 26/100\n",
      "4/4 - 0s - loss: 0.3859 - accuracy: 0.7991 - val_loss: 0.3863 - val_accuracy: 0.8054 - 82ms/epoch - 21ms/step\n",
      "Epoch 27/100\n",
      "4/4 - 0s - loss: 0.3821 - accuracy: 0.7988 - val_loss: 0.3822 - val_accuracy: 0.7964 - 80ms/epoch - 20ms/step\n",
      "Epoch 28/100\n",
      "4/4 - 0s - loss: 0.3787 - accuracy: 0.8030 - val_loss: 0.3788 - val_accuracy: 0.8031 - 76ms/epoch - 19ms/step\n",
      "Epoch 29/100\n",
      "4/4 - 0s - loss: 0.3753 - accuracy: 0.8041 - val_loss: 0.3759 - val_accuracy: 0.8076 - 79ms/epoch - 20ms/step\n",
      "Epoch 30/100\n",
      "4/4 - 0s - loss: 0.3724 - accuracy: 0.8041 - val_loss: 0.3727 - val_accuracy: 0.8076 - 78ms/epoch - 19ms/step\n",
      "Epoch 31/100\n",
      "4/4 - 0s - loss: 0.3696 - accuracy: 0.8061 - val_loss: 0.3702 - val_accuracy: 0.8143 - 74ms/epoch - 19ms/step\n",
      "Epoch 32/100\n",
      "4/4 - 0s - loss: 0.3669 - accuracy: 0.8053 - val_loss: 0.3675 - val_accuracy: 0.8076 - 75ms/epoch - 19ms/step\n",
      "Epoch 33/100\n",
      "4/4 - 0s - loss: 0.3644 - accuracy: 0.8072 - val_loss: 0.3650 - val_accuracy: 0.8143 - 84ms/epoch - 21ms/step\n",
      "Epoch 34/100\n",
      "4/4 - 0s - loss: 0.3621 - accuracy: 0.8075 - val_loss: 0.3622 - val_accuracy: 0.8210 - 84ms/epoch - 21ms/step\n",
      "Epoch 35/100\n",
      "4/4 - 0s - loss: 0.3603 - accuracy: 0.8100 - val_loss: 0.3601 - val_accuracy: 0.8255 - 89ms/epoch - 22ms/step\n",
      "Epoch 36/100\n",
      "4/4 - 0s - loss: 0.3578 - accuracy: 0.8083 - val_loss: 0.3580 - val_accuracy: 0.8143 - 83ms/epoch - 21ms/step\n",
      "Epoch 37/100\n",
      "4/4 - 0s - loss: 0.3559 - accuracy: 0.8097 - val_loss: 0.3565 - val_accuracy: 0.8143 - 89ms/epoch - 22ms/step\n",
      "Epoch 38/100\n",
      "4/4 - 0s - loss: 0.3541 - accuracy: 0.8114 - val_loss: 0.3550 - val_accuracy: 0.8255 - 77ms/epoch - 19ms/step\n",
      "Epoch 39/100\n",
      "4/4 - 0s - loss: 0.3524 - accuracy: 0.8145 - val_loss: 0.3539 - val_accuracy: 0.8255 - 79ms/epoch - 20ms/step\n",
      "Epoch 40/100\n",
      "4/4 - 0s - loss: 0.3506 - accuracy: 0.8159 - val_loss: 0.3524 - val_accuracy: 0.8255 - 78ms/epoch - 20ms/step\n",
      "Epoch 41/100\n",
      "4/4 - 0s - loss: 0.3491 - accuracy: 0.8161 - val_loss: 0.3506 - val_accuracy: 0.8166 - 75ms/epoch - 19ms/step\n",
      "Epoch 42/100\n",
      "4/4 - 0s - loss: 0.3475 - accuracy: 0.8142 - val_loss: 0.3493 - val_accuracy: 0.8121 - 74ms/epoch - 18ms/step\n",
      "Epoch 43/100\n",
      "4/4 - 0s - loss: 0.3464 - accuracy: 0.8145 - val_loss: 0.3491 - val_accuracy: 0.8233 - 78ms/epoch - 19ms/step\n",
      "Epoch 44/100\n",
      "4/4 - 0s - loss: 0.3448 - accuracy: 0.8170 - val_loss: 0.3474 - val_accuracy: 0.8121 - 74ms/epoch - 18ms/step\n",
      "Epoch 45/100\n",
      "4/4 - 0s - loss: 0.3436 - accuracy: 0.8159 - val_loss: 0.3464 - val_accuracy: 0.8188 - 81ms/epoch - 20ms/step\n",
      "Epoch 46/100\n",
      "4/4 - 0s - loss: 0.3428 - accuracy: 0.8139 - val_loss: 0.3450 - val_accuracy: 0.8322 - 74ms/epoch - 18ms/step\n",
      "Epoch 47/100\n",
      "4/4 - 0s - loss: 0.3413 - accuracy: 0.8156 - val_loss: 0.3446 - val_accuracy: 0.8233 - 77ms/epoch - 19ms/step\n",
      "Epoch 48/100\n",
      "4/4 - 0s - loss: 0.3403 - accuracy: 0.8164 - val_loss: 0.3425 - val_accuracy: 0.8121 - 75ms/epoch - 19ms/step\n",
      "Epoch 49/100\n",
      "4/4 - 0s - loss: 0.3395 - accuracy: 0.8178 - val_loss: 0.3412 - val_accuracy: 0.8300 - 73ms/epoch - 18ms/step\n",
      "Epoch 50/100\n",
      "4/4 - 0s - loss: 0.3384 - accuracy: 0.8220 - val_loss: 0.3409 - val_accuracy: 0.8188 - 76ms/epoch - 19ms/step\n",
      "Epoch 51/100\n",
      "4/4 - 0s - loss: 0.3371 - accuracy: 0.8215 - val_loss: 0.3400 - val_accuracy: 0.8233 - 92ms/epoch - 23ms/step\n",
      "Epoch 52/100\n",
      "4/4 - 0s - loss: 0.3363 - accuracy: 0.8148 - val_loss: 0.3396 - val_accuracy: 0.8121 - 80ms/epoch - 20ms/step\n",
      "Epoch 53/100\n",
      "4/4 - 0s - loss: 0.3356 - accuracy: 0.8192 - val_loss: 0.3387 - val_accuracy: 0.8210 - 78ms/epoch - 19ms/step\n",
      "Epoch 54/100\n",
      "4/4 - 0s - loss: 0.3345 - accuracy: 0.8189 - val_loss: 0.3387 - val_accuracy: 0.8255 - 75ms/epoch - 19ms/step\n",
      "Epoch 55/100\n",
      "4/4 - 0s - loss: 0.3338 - accuracy: 0.8206 - val_loss: 0.3374 - val_accuracy: 0.8166 - 74ms/epoch - 19ms/step\n",
      "Epoch 56/100\n",
      "4/4 - 0s - loss: 0.3328 - accuracy: 0.8237 - val_loss: 0.3367 - val_accuracy: 0.8188 - 76ms/epoch - 19ms/step\n",
      "Epoch 57/100\n",
      "4/4 - 0s - loss: 0.3322 - accuracy: 0.8212 - val_loss: 0.3373 - val_accuracy: 0.8210 - 80ms/epoch - 20ms/step\n"
     ]
    },
    {
     "data": {
      "text/plain": [
       "<keras.src.callbacks.History at 0x250908cf6d0>"
      ]
     },
     "execution_count": 29,
     "metadata": {},
     "output_type": "execute_result"
    }
   ],
   "source": [
    "\n",
    "input_size = 10\n",
    "output_size = 2\n",
    "\n",
    "hidden_layer_size = 40\n",
    "    \n",
    "\n",
    "model = tf.keras.Sequential([\n",
    "    \n",
    "    tf.keras.layers.Dense(hidden_layer_size, activation='relu'),\n",
    "    tf.keras.layers.Dense(hidden_layer_size, activation='relu'),\n",
    "    \n",
    "    tf.keras.layers.Dense(output_size, activation='softmax') # output layer\n",
    "])\n",
    "\n",
    "\n",
    "\n",
    "model.compile(optimizer='adam', loss='sparse_categorical_crossentropy', metrics=['accuracy'])\n",
    "\n",
    "\n",
    "batch_size = 1000\n",
    "\n",
    "\n",
    "max_epochs = 100\n",
    "\n",
    "\n",
    "early_stopping = tf.keras.callbacks.EarlyStopping()\n",
    "\n",
    "\n",
    "model.fit(train_inputs, \n",
    "          train_targets, \n",
    "          batch_size=batch_size,\n",
    "          epochs=max_epochs, \n",
    "          callbacks=[early_stopping], \n",
    "          validation_data=(validation_inputs, validation_targets), \n",
    "          verbose = 2 \n",
    "          )  "
   ]
  },
  {
   "cell_type": "markdown",
   "metadata": {},
   "source": [
    "## Test the model\n",
    "\n",
    "\n"
   ]
  },
  {
   "cell_type": "code",
   "execution_count": 30,
   "metadata": {},
   "outputs": [
    {
     "name": "stdout",
     "output_type": "stream",
     "text": [
      "14/14 [==============================] - 0s 4ms/step - loss: 0.3890 - accuracy: 0.7746\n"
     ]
    }
   ],
   "source": [
    "test_loss, test_accuracy = model.evaluate(test_inputs, test_targets)"
   ]
  },
  {
   "cell_type": "code",
   "execution_count": 31,
   "metadata": {},
   "outputs": [
    {
     "name": "stdout",
     "output_type": "stream",
     "text": [
      "\n",
      "Test loss: 0.39. Test accuracy: 77.46%\n"
     ]
    }
   ],
   "source": [
    "print('\\nTest loss: {0:.2f}. Test accuracy: {1:.2f}%'.format(test_loss, test_accuracy*100.))"
   ]
  }
 ],
 "metadata": {
  "kernelspec": {
   "display_name": "myenv",
   "language": "python",
   "name": "python3"
  },
  "language_info": {
   "codemirror_mode": {
    "name": "ipython",
    "version": 3
   },
   "file_extension": ".py",
   "mimetype": "text/x-python",
   "name": "python",
   "nbconvert_exporter": "python",
   "pygments_lexer": "ipython3",
   "version": "3.8.18"
  }
 },
 "nbformat": 4,
 "nbformat_minor": 2
}
